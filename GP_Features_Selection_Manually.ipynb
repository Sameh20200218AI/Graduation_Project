{
  "cells": [
    {
      "cell_type": "code",
      "execution_count": 20,
      "metadata": {
        "colab": {
          "base_uri": "https://localhost:8080/"
        },
        "id": "F1wFOISsswcp",
        "outputId": "777f9656-2218-4dbb-b8a0-ed64ff08532d"
      },
      "outputs": [
        {
          "output_type": "stream",
          "name": "stdout",
          "text": [
            "(17936, 3) (17936,)\n"
          ]
        }
      ],
      "source": [
        "import pandas as pd\n",
        "from sklearn.model_selection import train_test_split\n",
        "from sklearn.ensemble import RandomForestClassifier\n",
        "from sklearn.feature_selection import RFE\n",
        "from sklearn.metrics import accuracy_score\n",
        "from sklearn.preprocessing import StandardScaler\n",
        "\n",
        "\n",
        "# Load your dataset\n",
        "# Assuming your data is in a CSV file named 'your_data.csv'\n",
        "data = pd.read_csv('Robot_train_4s.csv')\n",
        "\n",
        "# 1. Data Preprocessing\n",
        "# Example: Handle missing values\n",
        "data = data.dropna()\n",
        "\n",
        "# Example: Feature Scaling\n",
        "scaler = StandardScaler()\n",
        "y = data.pop('Label')\n",
        "print(x.shape,y.shape)\n",
        "data_scaled = scaler.fit_transform(data)  # Assuming 'label' is the column name for your output\n",
        "\n",
        "# 2. Splitting the Data\n",
        "X_train, X_test, y_train, y_test = train_test_split(data_scaled, y, test_size=0.2, random_state=42)"
      ]
    },
    {
      "cell_type": "code",
      "execution_count": 21,
      "metadata": {
        "colab": {
          "base_uri": "https://localhost:8080/"
        },
        "id": "2ePxVMZRswcq",
        "outputId": "c6c63a86-0931-4589-bd7a-cccecbf244fc"
      },
      "outputs": [
        {
          "output_type": "stream",
          "name": "stdout",
          "text": [
            "Random Forest Accuracy: 0.9986064659977704\n"
          ]
        }
      ],
      "source": [
        "# Example: Random Forest\n",
        "rf_model = RandomForestClassifier(random_state=42)\n",
        "rf_model.fit(X_train, y_train)\n",
        "\n",
        "# 4. Model Evaluation\n",
        "y_pred = rf_model.predict(X_test)\n",
        "accuracy = accuracy_score(y_test, y_pred)\n",
        "print(f'Random Forest Accuracy: {accuracy}')"
      ]
    },
    {
      "cell_type": "code",
      "source": [
        "x =  data[['Y', 'slop(x)', 'slop(x/z)']]\n",
        "X_train,X_test,y_train,y_test= train_test_split( x,y, test_size=0.2, random_state=42)"
      ],
      "metadata": {
        "id": "cif7my_QuXt7"
      },
      "execution_count": 22,
      "outputs": []
    },
    {
      "cell_type": "code",
      "source": [
        "model1 = RandomForestClassifier(random_state=42)\n",
        "model1.fit(X_train, y_train)\n",
        "y_pred = model1.predict(X_test)\n",
        "accuracy1 = accuracy_score(y_test, y_pred)\n",
        "print(f'Random Forest Accuracy: {accuracy1}')"
      ],
      "metadata": {
        "colab": {
          "base_uri": "https://localhost:8080/"
        },
        "id": "td48mE6puDOk",
        "outputId": "bd6180d1-aa92-4bc6-9939-76668a0884f8"
      },
      "execution_count": 24,
      "outputs": [
        {
          "output_type": "stream",
          "name": "stdout",
          "text": [
            "Random Forest Accuracy: 0.9966555183946488\n"
          ]
        }
      ]
    },
    {
      "cell_type": "code",
      "source": [
        "x =  data[['X', 'Y', 'Z']]\n",
        "X_train,X_test,y_train,y_test= train_test_split( x,y, test_size=0.2, random_state=42)"
      ],
      "metadata": {
        "id": "OBm9aGJ6vYPa"
      },
      "execution_count": 25,
      "outputs": []
    },
    {
      "cell_type": "code",
      "source": [
        "model2 = RandomForestClassifier(random_state=42)\n",
        "model2.fit(X_train, y_train)\n",
        "y_pred = model2.predict(X_test)\n",
        "accuracy2 = accuracy_score(y_test, y_pred)\n",
        "print(f'Random Forest Accuracy: {accuracy2}')"
      ],
      "metadata": {
        "colab": {
          "base_uri": "https://localhost:8080/"
        },
        "id": "vKbGwEeIvYL0",
        "outputId": "dfc2d808-c3b9-4c35-de4b-b0ade99899da"
      },
      "execution_count": 26,
      "outputs": [
        {
          "output_type": "stream",
          "name": "stdout",
          "text": [
            "Random Forest Accuracy: 0.9977703455964325\n"
          ]
        }
      ]
    },
    {
      "cell_type": "code",
      "source": [
        "x =  data[['slop(x)', 'slop(x/z)', 'slop(1/z)']]\n",
        "X_train,X_test,y_train,y_test= train_test_split( x,y, test_size=0.2, random_state=42)"
      ],
      "metadata": {
        "id": "X7P9GFqTvYJN"
      },
      "execution_count": 27,
      "outputs": []
    },
    {
      "cell_type": "code",
      "source": [
        "model3 = RandomForestClassifier(random_state=42)\n",
        "model3.fit(X_train, y_train)\n",
        "y_pred = model3.predict(X_test)\n",
        "accuracy3 = accuracy_score(y_test, y_pred)\n",
        "print(f'Random Forest Accuracy: {accuracy3}')"
      ],
      "metadata": {
        "colab": {
          "base_uri": "https://localhost:8080/"
        },
        "id": "jyEdlFRwvYGO",
        "outputId": "eeba11ed-b081-4dee-e582-e100de911c93"
      },
      "execution_count": 28,
      "outputs": [
        {
          "output_type": "stream",
          "name": "stdout",
          "text": [
            "Random Forest Accuracy: 0.9905239687848384\n"
          ]
        }
      ]
    },
    {
      "cell_type": "code",
      "source": [
        "x =  data[['Y', 'slop(x/z)', 'slop(1/z)']]\n",
        "X_train,X_test,y_train,y_test= train_test_split( x,y, test_size=0.2, random_state=42)"
      ],
      "metadata": {
        "id": "wDJyy6QgvYDX"
      },
      "execution_count": 29,
      "outputs": []
    },
    {
      "cell_type": "code",
      "source": [
        "model4 = RandomForestClassifier(random_state=42)\n",
        "model4.fit(X_train, y_train)\n",
        "y_pred = model4.predict(X_test)\n",
        "accuracy4 = accuracy_score(y_test, y_pred)\n",
        "print(f'Random Forest Accuracy: {accuracy4}')"
      ],
      "metadata": {
        "colab": {
          "base_uri": "https://localhost:8080/"
        },
        "id": "K8ip1kvPvYAh",
        "outputId": "ab686c89-e445-427e-caf2-c976cbae2425"
      },
      "execution_count": 30,
      "outputs": [
        {
          "output_type": "stream",
          "name": "stdout",
          "text": [
            "Random Forest Accuracy: 0.9955406911928651\n"
          ]
        }
      ]
    },
    {
      "cell_type": "code",
      "source": [
        "x =  data[['X', 'Z/Y', 'slop(x)']]\n",
        "X_train,X_test,y_train,y_test= train_test_split( x,y, test_size=0.2, random_state=42)"
      ],
      "metadata": {
        "id": "7mp_iRRdvX93"
      },
      "execution_count": 32,
      "outputs": []
    },
    {
      "cell_type": "code",
      "source": [
        "model5 = RandomForestClassifier(random_state=42)\n",
        "model5.fit(X_train, y_train)\n",
        "y_pred = model5.predict(X_test)\n",
        "accuracy5 = accuracy_score(y_test, y_pred)\n",
        "print(f'Random Forest Accuracy: {accuracy5}')"
      ],
      "metadata": {
        "colab": {
          "base_uri": "https://localhost:8080/"
        },
        "id": "wLrxAas9vX7C",
        "outputId": "8b529bf3-bc99-4d97-b5b4-db94096c9459"
      },
      "execution_count": 33,
      "outputs": [
        {
          "output_type": "stream",
          "name": "stdout",
          "text": [
            "Random Forest Accuracy: 0.9952619843924192\n"
          ]
        }
      ]
    },
    {
      "cell_type": "code",
      "source": [
        "x =  data[['slop(x)', 'slop(1/z)', 'slop(z)']]\n",
        "X_train,X_test,y_train,y_test= train_test_split( x,y, test_size=0.2, random_state=42)"
      ],
      "metadata": {
        "id": "mf84ke3mvX4a"
      },
      "execution_count": 35,
      "outputs": []
    },
    {
      "cell_type": "code",
      "source": [
        "model6 = RandomForestClassifier(random_state=42)\n",
        "model6.fit(X_train, y_train)\n",
        "y_pred = model6.predict(X_test)\n",
        "accuracy6 = accuracy_score(y_test, y_pred)\n",
        "print(f'Random Forest Accuracy: {accuracy6}')"
      ],
      "metadata": {
        "colab": {
          "base_uri": "https://localhost:8080/"
        },
        "id": "gmklLicEvX1r",
        "outputId": "3163e91b-19fd-4c94-d178-56cd3d4069c5"
      },
      "execution_count": 36,
      "outputs": [
        {
          "output_type": "stream",
          "name": "stdout",
          "text": [
            "Random Forest Accuracy: 0.9882943143812709\n"
          ]
        }
      ]
    },
    {
      "cell_type": "code",
      "source": [
        "x =  data[['X', 'Y']]\n",
        "X_train,X_test,y_train,y_test= train_test_split( x,y, test_size=0.2, random_state=42)"
      ],
      "metadata": {
        "id": "OPuxIhfdvXy0"
      },
      "execution_count": 37,
      "outputs": []
    },
    {
      "cell_type": "code",
      "source": [
        "model7 = RandomForestClassifier(random_state=42)\n",
        "model7.fit(X_train, y_train)\n",
        "y_pred = model7.predict(X_test)\n",
        "accuracy7 = accuracy_score(y_test, y_pred)\n",
        "print(f'Random Forest Accuracy: {accuracy7}')"
      ],
      "metadata": {
        "colab": {
          "base_uri": "https://localhost:8080/"
        },
        "id": "jlhOTdHFxN0-",
        "outputId": "5c94fe8d-c0ca-4dc7-8287-a642d9824a6c"
      },
      "execution_count": 38,
      "outputs": [
        {
          "output_type": "stream",
          "name": "stdout",
          "text": [
            "Random Forest Accuracy: 0.991917502787068\n"
          ]
        }
      ]
    },
    {
      "cell_type": "code",
      "source": [
        "x =  data[['Y', 'Z']]\n",
        "X_train,X_test,y_train,y_test= train_test_split( x,y, test_size=0.2, random_state=42)"
      ],
      "metadata": {
        "id": "3nMU7yBtxZok"
      },
      "execution_count": 39,
      "outputs": []
    },
    {
      "cell_type": "code",
      "source": [
        "model8 = RandomForestClassifier(random_state=42)\n",
        "model8.fit(X_train, y_train)\n",
        "y_pred = model8.predict(X_test)\n",
        "accuracy8 = accuracy_score(y_test, y_pred)\n",
        "print(f'Random Forest Accuracy: {accuracy8}')"
      ],
      "metadata": {
        "colab": {
          "base_uri": "https://localhost:8080/"
        },
        "id": "O9sC1BHoxZk_",
        "outputId": "40a01888-25fd-44ad-c06b-5d22098fc047"
      },
      "execution_count": 40,
      "outputs": [
        {
          "output_type": "stream",
          "name": "stdout",
          "text": [
            "Random Forest Accuracy: 0.9885730211817169\n"
          ]
        }
      ]
    },
    {
      "cell_type": "code",
      "source": [
        "x =  data[['X', 'Z']]\n",
        "X_train,X_test,y_train,y_test= train_test_split( x,y, test_size=0.2, random_state=42)"
      ],
      "metadata": {
        "id": "dv3rS1oqxZiW"
      },
      "execution_count": 41,
      "outputs": []
    },
    {
      "cell_type": "code",
      "source": [
        "model9 = RandomForestClassifier(random_state=42)\n",
        "model9.fit(X_train, y_train)\n",
        "y_pred = model9.predict(X_test)\n",
        "accuracy9 = accuracy_score(y_test, y_pred)\n",
        "print(f'Random Forest Accuracy: {accuracy9}')"
      ],
      "metadata": {
        "colab": {
          "base_uri": "https://localhost:8080/"
        },
        "id": "JzpQXg9RxZfL",
        "outputId": "fcb90d30-6fc9-4ee7-90ee-463021582df9"
      },
      "execution_count": 42,
      "outputs": [
        {
          "output_type": "stream",
          "name": "stdout",
          "text": [
            "Random Forest Accuracy: 0.967948717948718\n"
          ]
        }
      ]
    },
    {
      "cell_type": "code",
      "source": [
        "x =  data[['X']]\n",
        "X_train,X_test,y_train,y_test= train_test_split( x,y, test_size=0.2, random_state=42)"
      ],
      "metadata": {
        "id": "52EFDdYbxZcb"
      },
      "execution_count": 43,
      "outputs": []
    },
    {
      "cell_type": "code",
      "source": [
        "model10 = RandomForestClassifier(random_state=42)\n",
        "model10.fit(X_train, y_train)\n",
        "y_pred = model10.predict(X_test)\n",
        "accuracy10 = accuracy_score(y_test, y_pred)\n",
        "print(f'Random Forest Accuracy: {accuracy10}')"
      ],
      "metadata": {
        "colab": {
          "base_uri": "https://localhost:8080/"
        },
        "id": "LpNE_PetxZZf",
        "outputId": "5564c6c0-974b-45b7-ba55-eae535066555"
      },
      "execution_count": 44,
      "outputs": [
        {
          "output_type": "stream",
          "name": "stdout",
          "text": [
            "Random Forest Accuracy: 0.12290969899665552\n"
          ]
        }
      ]
    },
    {
      "cell_type": "code",
      "source": [
        "x =  data[['Y']]\n",
        "X_train,X_test,y_train,y_test= train_test_split( x,y, test_size=0.2, random_state=42)"
      ],
      "metadata": {
        "id": "o4fbwdJoxZWo"
      },
      "execution_count": 45,
      "outputs": []
    },
    {
      "cell_type": "code",
      "source": [
        "model11 = RandomForestClassifier(random_state=42)\n",
        "model11.fit(X_train, y_train)\n",
        "y_pred = model11.predict(X_test)\n",
        "accuracy11 = accuracy_score(y_test, y_pred)\n",
        "print(f'Random Forest Accuracy: {accuracy11}')"
      ],
      "metadata": {
        "colab": {
          "base_uri": "https://localhost:8080/"
        },
        "id": "5nYb215txZTo",
        "outputId": "e02d6067-9ec6-47f7-e81f-fa38bd8f43c0"
      },
      "execution_count": 46,
      "outputs": [
        {
          "output_type": "stream",
          "name": "stdout",
          "text": [
            "Random Forest Accuracy: 0.9668338907469343\n"
          ]
        }
      ]
    },
    {
      "cell_type": "code",
      "source": [
        "x =  data[['Z']]\n",
        "X_train,X_test,y_train,y_test= train_test_split( x,y, test_size=0.2, random_state=42)"
      ],
      "metadata": {
        "id": "niFw1TRIxZQx"
      },
      "execution_count": 47,
      "outputs": []
    },
    {
      "cell_type": "code",
      "source": [
        "model12 = RandomForestClassifier(random_state=42)\n",
        "model12.fit(X_train, y_train)\n",
        "y_pred = model12.predict(X_test)\n",
        "accuracy12 = accuracy_score(y_test, y_pred)\n",
        "print(f'Random Forest Accuracy: {accuracy12}')"
      ],
      "metadata": {
        "colab": {
          "base_uri": "https://localhost:8080/"
        },
        "id": "UMnKj1CtxZNz",
        "outputId": "f0695ab5-2aa5-4a4c-9ae4-96a93187f217"
      },
      "execution_count": 48,
      "outputs": [
        {
          "output_type": "stream",
          "name": "stdout",
          "text": [
            "Random Forest Accuracy: 0.1164994425863991\n"
          ]
        }
      ]
    },
    {
      "cell_type": "code",
      "source": [
        "print(\"Accuracy of : 'Y', 'slop(x)', 'slop(x/z)'  \",accuracy1 )\n",
        "print(\"Accuracy of : 'X', 'Y', 'Z''  \",accuracy2 )\n",
        "print(\"Accuracy of : 'slop(x)', 'slop(x/z)', 'slop(1/z)'  \",accuracy3 )\n",
        "\n",
        "print(\"Accuracy of : 'Y', 'slop(x/z)', 'slop(1/z)'  \",accuracy4 )\n",
        "print(\"Accuracy of : 'X', 'Z/Y', 'slop(x)'  \",accuracy5 )\n",
        "print(\"Accuracy of : 'slop(x)', 'slop(1/z)', 'slop(z)'  \",accuracy6 )\n",
        "\n",
        "print(\"Accuracy of : 'X', 'Y'  \",accuracy7 )\n",
        "print(\"Accuracy of : 'Y', 'Z'  \",accuracy8 )\n",
        "print(\"Accuracy of : 'X', 'Z'  \",accuracy9 )\n",
        "\n",
        "print(\"Accuracy of : 'X'  \",accuracy10 )\n",
        "print(\"Accuracy of : 'Y'  \",accuracy11 )\n",
        "print(\"Accuracy of : 'Z'  \",accuracy12 )"
      ],
      "metadata": {
        "colab": {
          "base_uri": "https://localhost:8080/"
        },
        "id": "ZlDI6QsOxZLE",
        "outputId": "3c2aef0a-aa1e-44a0-ed64-dcc48f09475e"
      },
      "execution_count": 53,
      "outputs": [
        {
          "output_type": "stream",
          "name": "stdout",
          "text": [
            "Accuracy of : 'Y', 'slop(x)', 'slop(x/z)'   0.9966555183946488\n",
            "Accuracy of : 'X', 'Y', 'Z''   0.9977703455964325\n",
            "Accuracy of : 'slop(x)', 'slop(x/z)', 'slop(1/z)'   0.9905239687848384\n",
            "Accuracy of : 'Y', 'slop(x/z)', 'slop(1/z)'   0.9955406911928651\n",
            "Accuracy of : 'X', 'Z/Y', 'slop(x)'   0.9952619843924192\n",
            "Accuracy of : 'slop(x)', 'slop(1/z)', 'slop(z)'   0.9882943143812709\n",
            "Accuracy of : 'X', 'Y'   0.991917502787068\n",
            "Accuracy of : 'Y', 'Z'   0.9885730211817169\n",
            "Accuracy of : 'X', 'Z'   0.967948717948718\n",
            "Accuracy of : 'X'   0.12290969899665552\n",
            "Accuracy of : 'Y'   0.9668338907469343\n",
            "Accuracy of : 'Z'   0.1164994425863991\n"
          ]
        }
      ]
    }
  ],
  "metadata": {
    "kernelspec": {
      "display_name": "Python 3",
      "language": "python",
      "name": "python3"
    },
    "language_info": {
      "codemirror_mode": {
        "name": "ipython",
        "version": 3
      },
      "file_extension": ".py",
      "mimetype": "text/x-python",
      "name": "python",
      "nbconvert_exporter": "python",
      "pygments_lexer": "ipython3",
      "version": "3.10.4"
    },
    "colab": {
      "provenance": []
    }
  },
  "nbformat": 4,
  "nbformat_minor": 0
}