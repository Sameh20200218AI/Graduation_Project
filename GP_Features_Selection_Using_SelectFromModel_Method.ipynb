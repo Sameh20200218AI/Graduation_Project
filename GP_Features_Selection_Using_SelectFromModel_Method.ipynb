{
 "cells": [
  {
   "cell_type": "code",
   "execution_count": 2,
   "metadata": {},
   "outputs": [],
   "source": [
    "from sklearn.feature_selection import SelectFromModel\n",
    "from sklearn.feature_selection import f_classif\n",
    "import numpy as np\n",
    "import pandas as pd\n",
    "from sklearn.model_selection import train_test_split\n",
    "from sklearn.ensemble import RandomForestClassifier"
   ]
  },
  {
   "cell_type": "code",
   "execution_count": 3,
   "metadata": {},
   "outputs": [],
   "source": [
    "data = pd.read_csv('Robot_train_83_features.csv')\n",
    "features = data.keys()"
   ]
  },
  {
   "cell_type": "code",
   "execution_count": 4,
   "metadata": {},
   "outputs": [],
   "source": [
    "y = data.pop('label')\n",
    "x = data\n"
   ]
  },
  {
   "cell_type": "code",
   "execution_count": 6,
   "metadata": {},
   "outputs": [],
   "source": [
    "x_train,x_test,y_train,y_test = train_test_split(x,y,test_size=0.2,random_state=100)"
   ]
  },
  {
   "cell_type": "code",
   "execution_count": 7,
   "metadata": {},
   "outputs": [
    {
     "name": "stdout",
     "output_type": "stream",
     "text": [
      "0.8841961852861036\n"
     ]
    }
   ],
   "source": [
    "model = RandomForestClassifier(n_estimators=50,max_depth=900)\n",
    "model.fit(x_train,y_train)\n",
    "print(model.score(x_test,y_test))"
   ]
  },
  {
   "cell_type": "code",
   "execution_count": 8,
   "metadata": {},
   "outputs": [
    {
     "name": "stdout",
     "output_type": "stream",
     "text": [
      "[False False  True False  True  True False  True  True  True  True  True\n",
      " False  True False  True False  True  True  True False False False False\n",
      "  True  True False False False False False False  True  True  True False\n",
      " False False False False False False False False  True  True False False\n",
      " False False False False False False  True False False False False False\n",
      " False False False  True False False  True False False  True False False\n",
      "  True False False  True False  True False False False False False]\n"
     ]
    }
   ],
   "source": [
    "selected_features = SelectFromModel(estimator=model,max_features=None)\n",
    "x_new = selected_features.fit_transform(x,y)\n",
    "new_features = selected_features.get_support()\n",
    "print(new_features)\n",
    "\n",
    "x_train,x_test,y_train,y_test = train_test_split(x_new,y,test_size=0.2,random_state=100)"
   ]
  },
  {
   "cell_type": "code",
   "execution_count": 10,
   "metadata": {},
   "outputs": [
    {
     "name": "stdout",
     "output_type": "stream",
     "text": [
      "0.876566757493188\n"
     ]
    }
   ],
   "source": [
    "model.fit(x_train,y_train)\n",
    "print(model.score(x_test,y_test))"
   ]
  },
  {
   "cell_type": "code",
   "execution_count": 11,
   "metadata": {},
   "outputs": [],
   "source": [
    "f = []"
   ]
  },
  {
   "cell_type": "code",
   "execution_count": 12,
   "metadata": {},
   "outputs": [],
   "source": [
    "for i in range(len(features)-1):\n",
    "    if new_features[i]==True:\n",
    "        f.append(features[i])"
   ]
  },
  {
   "cell_type": "code",
   "execution_count": 13,
   "metadata": {},
   "outputs": [
    {
     "name": "stdout",
     "output_type": "stream",
     "text": [
      "27\n",
      "['Y', 'X*Y', 'X*Z', 'X*Y+Z', 'X*Y*Z', 'X*Z+Y', 'Y*Z+X', 'X+Y', 'Y+Z', 'X-Y', 'Y-Z', 'X+Y-Z', 'X-Y+Z', 'Y/X', 'Z/X', 'Y**4', 'Z**2', 'Z**3', 'X**2 * Y**2 - X*Y', 'Y**2 * Z**2 - Y*Z', 'Y**2 * Z**2', 'Y**3 * Z**3', '1/Y**2', '1/Y**3', '1/Y**2 - 1/Z**2', 'X**2 + Y**2 + Z**2 - XYZ', 'X**2 + Y**2 - Z**2 + XYZ']\n"
     ]
    }
   ],
   "source": [
    "print(len(f))\n",
    "print(f)"
   ]
  }
 ],
 "metadata": {
  "kernelspec": {
   "display_name": "Python 3",
   "language": "python",
   "name": "python3"
  },
  "language_info": {
   "codemirror_mode": {
    "name": "ipython",
    "version": 3
   },
   "file_extension": ".py",
   "mimetype": "text/x-python",
   "name": "python",
   "nbconvert_exporter": "python",
   "pygments_lexer": "ipython3",
   "version": "3.10.4"
  },
  "orig_nbformat": 4
 },
 "nbformat": 4,
 "nbformat_minor": 2
}
