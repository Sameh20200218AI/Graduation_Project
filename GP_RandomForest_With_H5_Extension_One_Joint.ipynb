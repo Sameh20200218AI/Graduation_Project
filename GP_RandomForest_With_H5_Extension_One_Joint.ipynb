{
  "cells": [
    {
      "cell_type": "code",
      "execution_count": 18,
      "metadata": {},
      "outputs": [],
      "source": [
        "import pandas as pd\n",
        "from sklearn.model_selection import train_test_split\n",
        "import numpy as np\n",
        "from sklearn.ensemble import RandomForestClassifier\n",
        "from sklearn.feature_selection import RFE\n",
        "from sklearn.metrics import accuracy_score\n",
        "from sklearn.preprocessing import StandardScaler\n",
        "import h5py\n",
        "import pickle\n",
        "\n",
        "# Load your dataset\n",
        "# Assuming your data is in a CSV file named 'your_data.csv'\n",
        "data = pd.read_csv('Robot_train_4s.csv')\n",
        "\n",
        "# 1. Data Preprocessing\n",
        "# Example: Handle missing values\n",
        "data = data.dropna()\n",
        "\n",
        "# Example: Feature Scaling\n",
        "scaler = StandardScaler()\n",
        "data_scaled = scaler.fit_transform(data.drop('Label', axis=1))  # Assuming 'label' is the column name for your output\n",
        "\n",
        "# 2. Splitting the Data\n",
        "X_train, X_test, y_train, y_test = train_test_split(data_scaled, data['Label'], test_size=0.2, random_state=42)"
      ]
    },
    {
      "cell_type": "code",
      "execution_count": 19,
      "metadata": {},
      "outputs": [
        {
          "name": "stdout",
          "output_type": "stream",
          "text": [
            "Random Forest Accuracy: 0.9969367864104706\n"
          ]
        }
      ],
      "source": [
        "# 3. Building Multiple ML Models\n",
        "# Example: Random Forest\n",
        "model = RandomForestClassifier(random_state=42,n_estimators=5,max_depth=10)\n",
        "model.fit(X_train, y_train)\n",
        "\n",
        "# 4. Model Evaluation\n",
        "y_pred = model.predict(X_test)\n",
        "accuracy = accuracy_score(y_test, y_pred)\n",
        "print(f'Random Forest Accuracy: {accuracy}')"
      ]
    },
    {
      "cell_type": "code",
      "execution_count": 20,
      "metadata": {},
      "outputs": [],
      "source": [
        "# Save the model to an .h5 file\n",
        "def save_model_to_h5(model, filename):\n",
        "    with h5py.File(filename, 'w') as f:\n",
        "        model_pickle = pickle.dumps(model)\n",
        "        f.create_dataset('model', data=np.void(model_pickle))\n",
        "\n",
        "save_model_to_h5(model, 'random_forest_model.h5')\n",
        "\n",
        "# Load the model from an .h5 file\n",
        "def load_model_from_h5(filename):\n",
        "    with h5py.File(filename, 'r') as f:\n",
        "        model_pickle = f['model'][()]\n",
        "        model = pickle.loads(model_pickle.tobytes())\n",
        "    return model"
      ]
    },
    {
      "cell_type": "code",
      "execution_count": 21,
      "metadata": {},
      "outputs": [
        {
          "name": "stdout",
          "output_type": "stream",
          "text": [
            "Accuracy of the original model: 0.9969367864104706\n",
            "Accuracy of the loaded model: 0.9969367864104706\n"
          ]
        }
      ],
      "source": [
        "# Test the original model\n",
        "y_pred_original = model.predict(X_test)\n",
        "accuracy_original = accuracy_score(y_test, y_pred_original)\n",
        "print(f'Accuracy of the original model: {accuracy_original}')\n",
        "\n",
        "# Load the model and test it\n",
        "loaded_model = load_model_from_h5('random_forest_model.h5')\n",
        "y_pred_loaded = loaded_model.predict(X_test)\n",
        "accuracy_loaded = accuracy_score(y_test, y_pred_loaded)\n",
        "print(f'Accuracy of the loaded model: {accuracy_loaded}')"
      ]
    }
  ],
  "metadata": {
    "colab": {
      "provenance": []
    },
    "kernelspec": {
      "display_name": "Python 3",
      "name": "python3"
    },
    "language_info": {
      "codemirror_mode": {
        "name": "ipython",
        "version": 3
      },
      "file_extension": ".py",
      "mimetype": "text/x-python",
      "name": "python",
      "nbconvert_exporter": "python",
      "pygments_lexer": "ipython3",
      "version": "3.10.4"
    }
  },
  "nbformat": 4,
  "nbformat_minor": 0
}
